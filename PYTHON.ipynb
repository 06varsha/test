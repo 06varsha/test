{
  "cells": [
    {
      "cell_type": "code",
      "execution_count": null,
      "metadata": {
        "id": "_IG0yw0zRz2M"
      },
      "outputs": [],
      "source": [
        "#Task-4\n",
        "Referral id: DIRSS3129\n",
        "Name: Varsha Gupta"
      ]
    },
    {
      "cell_type": "code",
      "execution_count": null,
      "metadata": {
        "colab": {
          "base_uri": "https://localhost:8080/"
        },
        "id": "8kEv2vzjSfKk",
        "outputId": "48dcfbba-c85e-45ee-f7ad-5d3dd46410a3"
      },
      "outputs": [
        {
          "name": "stdout",
          "output_type": "stream",
          "text": [
            "Enter a number:17\n",
            "17 is Odd\n"
          ]
        }
      ],
      "source": [
        "#Q1. Take any value from the user, print \"odd\" if the value entered is odd and print \"even\" otherwise.\n",
        "# Python program to check if the input number is odd or even.\n",
        "# A number is even if division by 2 gives a remainder of 0.\n",
        "# If the remainder is 1, it is an odd number.\n",
        "\n",
        "num = int(input(\"Enter a number:\"))\n",
        "if (num % 2) == 0:\n",
        "   print(\"{0} is Even\".format(num))\n",
        "else:\n",
        "   print(\"{0} is Odd\".format(num))\n",
        "\n"
      ]
    },
    {
      "cell_type": "code",
      "execution_count": null,
      "metadata": {
        "colab": {
          "base_uri": "https://localhost:8080/"
        },
        "id": "U10UYT79WC_C",
        "outputId": "8a751834-e59a-4241-c5b7-deee12fdc906"
      },
      "outputs": [
        {
          "name": "stdout",
          "output_type": "stream",
          "text": [
            "Real part: 5\n",
            "Imaginary part: 2\n"
          ]
        }
      ],
      "source": [
        "#Q2. Take input from the user and check if the number is a complex number. A complex number is the som of a real number and an imag. number\n",
        "# Python3 program to find the real and\n",
        "# imaginary parts of a Complex Number\n",
        "\n",
        "# Function to find real and imaginary\n",
        "# parts of a complex number\n",
        "def findRealAndImag(s) :\n",
        "    \n",
        "    # string length stored in variable l\n",
        "    l = len(s)\n",
        "\n",
        "    # variable for the index of the separator\n",
        "    i = 0\n",
        "\n",
        "    # Storing the index of '+'\n",
        "    if (s.find('+') != -1):\n",
        "        i = s.find('+')\n",
        "    # else storing the index of '-'\n",
        "    else:\n",
        "        i = s.find('-');\n",
        "\n",
        "    # Finding the real part\n",
        "    # of the complex number\n",
        "    real = s[:i]\n",
        "\n",
        "    # Finding the imaginary part\n",
        "    # of the complex number\n",
        "    imaginary = s[i + 1:l - 1]\n",
        "\n",
        "    print(\"Real part:\", real)\n",
        "    print(\"Imaginary part:\", imaginary)\n",
        "\n",
        "# Driver code\n",
        "s = \"5+2i\";\n",
        "\n",
        "findRealAndImag(s);\n"
      ]
    },
    {
      "cell_type": "code",
      "execution_count": null,
      "metadata": {
        "id": "edm-4U7EwBcZ"
      },
      "outputs": [],
      "source": [
        "# Flow Control: \n",
        "               A programs control flow is the order in which the programs code executes. The control flow of a python program is\n",
        "regulated by conditional statements, loops, and function calls.\n",
        "\n",
        "# Comparison Operators: \n",
        "                       Relational operators are used for comparing the values. It either returns True or False according to the condition.\n",
        "These operators are also known as Comparison Operators.\n",
        "\n",
        "# Loop Conceptes:\n",
        "                 In python, while loop is used to execute a block of statements repeatdly until a given a condition is satisfied.\n",
        "And when the condition becomes false, the line immediately after the loop in program is executed.                  "
      ]
    },
    {
      "cell_type": "code",
      "execution_count": null,
      "metadata": {
        "colab": {
          "base_uri": "https://localhost:8080/"
        },
        "id": "HUF7VVJhd9AJ",
        "outputId": "4b660448-cb0b-40da-be70-3779c861c597"
      },
      "outputs": [
        {
          "name": "stdout",
          "output_type": "stream",
          "text": [
            "C\n"
          ]
        }
      ],
      "source": [
        "#Q3. Create a program to enter marks from the user out of 100 and display grades as per the following 90-100(A),75-90(B),60-75(C),45-60(D),33-45(E) & remaining all are F.\n",
        "# Python3 program to assign grades\n",
        "# to a student using nested if-else\n",
        "\n",
        "if __name__ == \"__main__\":\n",
        "\n",
        "    # Store marks of all the subjects\n",
        "    # in an array\n",
        "    marks = [30, 88, 98, 60, 92, 65]\n",
        "\n",
        "    # Max marks will be 100 * number\n",
        "    # of subject\n",
        "    max_marks = len(marks)* 100\n",
        "\n",
        "    # Initialize student's total\n",
        "    # marks to 0\n",
        "    total = 0\n",
        "\n",
        "    # Initialize student's grade\n",
        "    # marks to F\n",
        "    grade = 'F'\n",
        "\n",
        "    # Traverse though the marks array\n",
        "    # to find the sum.\n",
        "    for i in range(len(marks)):\n",
        "        total += marks[i]\n",
        "\n",
        "    # Calculate the percentage.\n",
        "    # Since all the marks are integer,\n",
        "    percentage = ((total) /max_marks) * 100\n",
        "\n",
        "    # Nested if else\n",
        "    if (percentage >= 90):\n",
        "        grade = 'A'\n",
        "\n",
        "    else : \n",
        "        if (percentage >= 75 and\n",
        "            percentage <= 90) :\n",
        "            grade = 'B'\n",
        "\n",
        "        else :\n",
        "            if (percentage >= 60 and\n",
        "                percentage <= 75) :\n",
        "                grade = 'C' \n",
        "\n",
        "            else :\n",
        "                if (percentage >= 45 and\n",
        "                    percentage <= 60) :\n",
        "                    grade = 'D'\n",
        "\n",
        "                else :\n",
        "                    if (percentage >= 33 and\n",
        "                        percentage <= 45) :\n",
        "                        grade = 'E'\n",
        "\n",
        "                    else:\n",
        "                        grade = 'F'\n",
        "\n",
        "        print(grade) \n"
      ]
    },
    {
      "cell_type": "code",
      "execution_count": null,
      "metadata": {
        "colab": {
          "base_uri": "https://localhost:8080/"
        },
        "id": "Zd-qXYXwuZm-",
        "outputId": "78c7d8ad-cbf9-47c8-aec5-69419ffd3f03"
      },
      "outputs": [
        {
          "name": "stdout",
          "output_type": "stream",
          "text": [
            "Yes\n"
          ]
        }
      ],
      "source": [
        "#Q4. Say three integers have been given. Determine how many of them are equal to each other. Create a program to print 3(if all 3 are same),2(if 2 are same) and 0(if all numbers are different)\n",
        "\n",
        "# Python3 implementation of the approach\n",
        "\n",
        "# Function that returns true if a, b and c can\n",
        "# be made equal with the given operations\n",
        "def canBeEqual(a, b, c, k) :\n",
        "\n",
        "    arr = [0] * 3;\n",
        "    arr[0] = a;\n",
        "    arr[1] = b;\n",
        "    arr[2] = c;\n",
        "\n",
        "    # Sort the three numbers\n",
        "    arr.sort()\n",
        "\n",
        "    # Find the sum of difference of the 3rd and \n",
        "    # 2nd element and the 3rd and 1st element\n",
        "    diff = 2 * arr[2] - arr[1] - arr[0];\n",
        "\n",
        "    # Subtract the difference from k\n",
        "    k = k - diff;\n",
        "\n",
        "    # Check the required condition\n",
        "    if (k < 0 or k % 3 != 0) :\n",
        "        return False;\n",
        "\n",
        "    return True;\n",
        "\n",
        "# Driver code\n",
        "if __name__ == \"__main__\" :\n",
        "\n",
        "    a1 = 6; b1 = 3; c1 = 2; k1 = 7;\n",
        "\n",
        "    if (canBeEqual(a1, b1, c1, k1)) :\n",
        "        print(\"Yes\");\n",
        "    else :\n",
        "        print(\"No\");\n",
        "\n"
      ]
    },
    {
      "cell_type": "code",
      "execution_count": null,
      "metadata": {
        "id": "1qxcDC0A1kyO"
      },
      "outputs": [],
      "source": [
        "# String Functions: \n",
        "capitalize()\n",
        "lower()\n",
        "title()\n",
        "casefold()\n",
        "upper()\n",
        "count()\n",
        "find()\n",
        "replace()\n",
        "swapcase()\n",
        "join()\n",
        "                  "
      ]
    },
    {
      "cell_type": "code",
      "execution_count": null,
      "metadata": {
        "id": "pJiAFRuC2lMM"
      },
      "outputs": [],
      "source": [
        "# Slicing: Slicing in Python is a feature that enables accessing parts of sequences like strings, tuples and lists.\n"
      ]
    },
    {
      "cell_type": "code",
      "execution_count": null,
      "metadata": {
        "id": "l0oRuRzU2oKj"
      },
      "outputs": [],
      "source": [
        "# Indexing: Indexing in Python is a way to refer the individual items within an iterable by its position."
      ]
    },
    {
      "cell_type": "code",
      "execution_count": null,
      "metadata": {
        "id": "IxKYMj9P2tBN"
      },
      "outputs": [],
      "source": [
        "# Negative indexing:\n",
        "                    Python programming language supports negative indexing of arrays, something which is not available in\n",
        "arrays in most other programming languages. This means that the index value of -1 gives the last element, and -2 gives the\n",
        "second last element of an array. The negative indexing starts from where the array ends.                    "
      ]
    },
    {
      "cell_type": "code",
      "execution_count": null,
      "metadata": {
        "id": "TFypbiVJ2y1k"
      },
      "outputs": [],
      "source": [
        "# Maths functions:\n",
        "Function           Description\n",
        "ceil(x)            Returns the smallest integer greater than or equal to x.\n",
        "copysign(x,y)      Returns x with the sign of y\n",
        "fabs(x)            Returns the absolute value of x\n",
        "factorial(x)       Returns the factorial of x\n",
        "floor(x)           Returns the largest integer less than or equal to x\n",
        "gcd(x,y)           Compute the greatest common divisor of 2 numbers\n",
        "fmod(x,y)          Returns the remainder when x is divided by y\n",
        "frexp(x)           Returns the mantissa and exponent of x as the pair(m, e)\n",
        "fsum(iterable)     Returns the precise floating-point value of sum of elements in an iterable\n",
        "isnan(x)           Returns true if the number is \"nan\" else returns false\n",
        "ldexp(x,i)         Returns x * (2**i)\n",
        "modf(x)            Returns the fractional and integer part of x\n",
        "trunc(x)           Returns the truncated integer value of x\n",
        "exp(x)             Returns the value of e raised to the power x(e**x)\n",
        "expm1(x)           Returns the value of e raised to the power a (x-1)\n",
        "pow(x,y)           Compute value of x raised to the power y (x**y)\n",
        "sqrt(x)            Returns the square root of the number\n",
        "acos(x)            Returns the arc cosine of value passed as argument\n",
        "asin(x)            Returns the arc sine of value passed as argument\n",
        "atan2(y,x)         Returns atan(y / x)\n",
        "cos(x)             Returns the cosine of value passed as argument\n",
        "sin(x)             Returns the sine of value passed as argument"
      ]
    },
    {
      "cell_type": "code",
      "execution_count": null,
      "metadata": {
        "colab": {
          "base_uri": "https://localhost:8080/"
        },
        "id": "Hw7einEw232L",
        "outputId": "80d702a2-27f3-4668-d6cf-3117da7bce89"
      },
      "outputs": [
        {
          "output_type": "stream",
          "name": "stdout",
          "text": [
            "Varsha,Gupta,cooking,7691825583\n"
          ]
        }
      ],
      "source": [
        "#Q6. Pass your name, surname, phone_no, hobbies in a python script and get all the passed values in a line without space.\n",
        "string = 'Varsha,Gupta,cooking,7691825583'\n",
        "def remove(string):\n",
        "    return string.replace(\" \",\"\")\n",
        "\n",
        "print(remove(string))\n"
      ]
    },
    {
      "cell_type": "code",
      "execution_count": null,
      "metadata": {
        "colab": {
          "base_uri": "https://localhost:8080/"
        },
        "id": "GS9sEMR2740v",
        "outputId": "015da9c8-a7bc-4ee6-9bd9-cb1c22c0c8f6"
      },
      "outputs": [
        {
          "name": "stdout",
          "output_type": "stream",
          "text": [
            "R\n",
            "S\n",
            "1\n"
          ]
        }
      ],
      "source": [
        "#Q7(a). Write a python script: separate 2,3,6 characters from your ID.\n",
        "string = 'DIRSS3129'\n",
        "print(string[2])\n",
        "print(string[3])\n",
        "print(string[6])\n"
      ]
    },
    {
      "cell_type": "code",
      "execution_count": null,
      "metadata": {
        "colab": {
          "base_uri": "https://localhost:8080/"
        },
        "id": "7WAEL8ma9vGA",
        "outputId": "14825b32-58d3-47ab-e15f-83e901a71ffe"
      },
      "outputs": [
        {
          "output_type": "stream",
          "name": "stdout",
          "text": [
            "r\n",
            "s\n",
            "h\n",
            "a\n",
            "p\n",
            "t\n",
            "a\n"
          ]
        }
      ],
      "source": [
        "#Q7(b) To print character 2 to 5 in your name and surname.\n",
        "string1 = 'Varsha'\n",
        "string2 = 'Gupta'\n",
        "print(string1[2])\n",
        "print(string1[3])\n",
        "print(string1[4])\n",
        "print(string1[5])\n",
        "print(string2[2])\n",
        "print(string2[3])\n",
        "print(string2[4])\n"
      ]
    },
    {
      "cell_type": "code",
      "execution_count": null,
      "metadata": {
        "colab": {
          "base_uri": "https://localhost:8080/"
        },
        "id": "BXhKPycA_DEv",
        "outputId": "5db74f57-e4fc-480d-8844-eabdd021fa41"
      },
      "outputs": [
        {
          "output_type": "stream",
          "name": "stdout",
          "text": [
            "Varsha\n",
            "Gupta\n"
          ]
        }
      ],
      "source": [
        "#Q7(c) print all the characters of your name and surname.\n",
        "string_name = 'Varsha'\n",
        "string_surname = 'Gupta'\n",
        "print(string_name)\n",
        "print(string_surname)\n"
      ]
    },
    {
      "cell_type": "code",
      "execution_count": null,
      "metadata": {
        "id": "i98XNF26CzLA"
      },
      "outputs": [],
      "source": [
        "# Basic file management:\n",
        "                        Basic file management refers to a way to name, save, backup, organize files/folders and keep track of files\n",
        "on a computer.                        \n"
      ]
    },
    {
      "cell_type": "code",
      "execution_count": null,
      "metadata": {
        "id": "Ap7C5xohC9Lp"
      },
      "outputs": [],
      "source": [
        "# Opeaning a file:\n",
        "                 To open a file, you need to use the built-in open function. The Python file open function returns a file object\n",
        "that contains methods and attributes to perform various operations for opening files in Python.                   \n"
      ]
    },
    {
      "cell_type": "code",
      "execution_count": null,
      "metadata": {
        "id": "z4qSijkNDC2C"
      },
      "outputs": [],
      "source": [
        "# Reading a file:\n",
        "                Open text file for reading. The handle is positioned at the beginning of the file. If the file does not exists, raises\n",
        "I/O error. This is also the default mode in which file is opened.                 "
      ]
    },
    {
      "cell_type": "code",
      "source": [
        "# Writing into a file: \n",
        "                     Open the file for writing. For an existing file, the data is truncated and over-written. The handle is \n",
        "positioned at the beginning of the file. Create the file if the file does not exist.                     "
      ],
      "metadata": {
        "id": "GAHC_Es_yJDL"
      },
      "execution_count": null,
      "outputs": []
    },
    {
      "cell_type": "code",
      "source": [
        "# Error and Exception Handling:\n",
        "                              Errors cannot be handled, while Python exceptions can be handled at the run time. An error can be\n",
        "a syntax (parsing) error, while there can be many types of exceptions that could occur during the execution and are not \n",
        "unconditionally inoperable.                              "
      ],
      "metadata": {
        "id": "IfHupaCK4T7h"
      },
      "execution_count": null,
      "outputs": []
    },
    {
      "cell_type": "code",
      "source": [
        "# Object Oriented Programming:\n",
        "                             In Python, object-oriented Programming (OOPs) is a programming paradigm that uses objects and classes\n",
        "in programming. It aims to implement real-world entities like inheritance, polymorphisms, encapsulation etc. in the programming.                             "
      ],
      "metadata": {
        "id": "UeBzpitI8X3q"
      },
      "execution_count": null,
      "outputs": []
    },
    {
      "cell_type": "code",
      "source": [
        "# Creating object:\n",
        "Create a Class. To create a class, use the keyword class:\n",
        "Create Object. Now we can use the class named MyClass to create objects:\n",
        "The self Parameter\n",
        "Modify Object Properties\n",
        "Delete Object Properties\n",
        "Delete Objects"
      ],
      "metadata": {
        "id": "6sopQ73c-Kz3"
      },
      "execution_count": null,
      "outputs": []
    },
    {
      "cell_type": "code",
      "source": [
        "# Inheritance:\n",
        "             Inheritance is a concept in object oriented programming where existing classes can be modified by a new class.\n",
        "The existing class is called the base class and the new class is called the derived class.\n",
        "Types of Inheritance:\n",
        "Single inheritance, Multiple inheritance, Multilevel inheritance, Hierarchical inheritance, Hybrid inheritance              "
      ],
      "metadata": {
        "id": "C84kk2RaBcA4"
      },
      "execution_count": null,
      "outputs": []
    },
    {
      "cell_type": "code",
      "source": [
        "# Polymorphism:\n",
        "              Polymorphism defines the ability to take different forms. Polymorphism in Python allows us to define methods in the\n",
        "child class with the same name as defined in their parent class.              "
      ],
      "metadata": {
        "id": "6aR5jHkmDtWS"
      },
      "execution_count": null,
      "outputs": []
    },
    {
      "cell_type": "code",
      "source": [
        "# Operator Overloading:\n",
        "                     Operator overloading in Python is the ability of a single operator to perform more than one operation based\n",
        "on the class (type) of operands. \n",
        "For example the + operator can be used to add two numbers, concatenate two strings or merge two lists.                      "
      ],
      "metadata": {
        "id": "Fcd_fJl3FtpB"
      },
      "execution_count": null,
      "outputs": []
    },
    {
      "cell_type": "code",
      "source": [
        "#Q11(a). Create an html generator using: A base class with a couple methods\n",
        "\n",
        "# Base or super class. Note object in bracket.\n",
        "# (Generally, object is made ancestor of all classes)\n",
        "# In Python 3.x \"class Person\" is\n",
        "# equivalent to \"class Person(object)\"\n",
        "class Person(object):\n",
        "\n",
        "    # Constructor\n",
        "    def __init__(self, name):\n",
        "       self.name = name\n",
        "\n",
        "    # To get name\n",
        "    def getName(self):\n",
        "        return self.name\n",
        "\n",
        "    # To check if this person is an employee\n",
        "    def isEmployee(self):\n",
        "        return False\n",
        "\n",
        "# Inherited or Subclass (Note Person in bracket)\n",
        "class Employee(Person):\n",
        "\n",
        "    # Here we return true\n",
        "    def isEmployee(self):\n",
        "        return True\n",
        "\n",
        "# Driver code\n",
        "emp = Person(\"Regex1\")\n",
        "print(emp.getName(), emp.isEmployee())\n",
        "\n",
        "emp = Employee(\"Regex2\")\n",
        "print(emp.getName(), emp.isEmployee())\n"
      ],
      "metadata": {
        "id": "h3ubyZRwKP-h",
        "colab": {
          "base_uri": "https://localhost:8080/"
        },
        "outputId": "7a99fac6-f2fd-4f86-bb91-b16bb32986b2"
      },
      "execution_count": null,
      "outputs": [
        {
          "output_type": "stream",
          "name": "stdout",
          "text": [
            "Regex1 False\n",
            "Regex2 True\n"
          ]
        }
      ]
    },
    {
      "cell_type": "code",
      "source": [
        "#Q11(b). Subclass overriding class attributes\n",
        "# Write Python code here\n",
        "class sampleclass:\n",
        "    count = 0     # class attribute\n",
        "\n",
        "    def increase(self):\n",
        "        sampleclass.count += 1\n",
        "\n",
        "# Calling increase() on an object\n",
        "\n",
        "s1 = sampleclass()\n",
        "s1.increase()\n",
        "\n",
        "print(s1.count)\n",
        "\n",
        "# Calling increase on one more\n",
        "# object\n",
        "\n",
        "s2 = sampleclass()\n",
        "s2.increase()\n",
        "\n",
        "print(s2.count)\n",
        "\n",
        "print(sampleclass.count)\n"
      ],
      "metadata": {
        "id": "zpekmZZ_4RaK",
        "colab": {
          "base_uri": "https://localhost:8080/"
        },
        "outputId": "7284d5fb-29ef-4586-ad92-9026b1eca230"
      },
      "execution_count": 5,
      "outputs": [
        {
          "output_type": "stream",
          "name": "stdout",
          "text": [
            "1\n",
            "2\n",
            "2\n"
          ]
        }
      ]
    },
    {
      "cell_type": "code",
      "source": [
        "#Q11(c). Subclass overriding a method\n",
        "class Parent(object):\n",
        "    def __init__(self):\n",
        "        self.value = 5\n",
        "\n",
        "    def get_value(self):\n",
        "        return self.value\n",
        "\n",
        "class Child(Parent):\n",
        "    def get_value(self):\n",
        "        return self.value + 1\n",
        "                  "
      ],
      "metadata": {
        "id": "gNZLZV-C6DMW"
      },
      "execution_count": 8,
      "outputs": []
    },
    {
      "cell_type": "code",
      "source": [
        "#Q11(d) Subclass overriding the __init__\n",
        "# defining a SuperClass\n",
        "class SuperClass:\n",
        "\n",
        "     # defining __init_subclass__method\n",
        "     def __init_subclass__(cls, **kwargs):\n",
        "         cls.default_name = \"Inherited Class\"\n",
        "         \n",
        "# defining a SubClass\n",
        "class SubClass(SuperClass):\n",
        "\n",
        "     # an attribute of SubClass\n",
        "    default_name =\"SubClass\"\n",
        "    print(default_name) \n",
        "\n",
        "subclass = SubClass()\n",
        "print(subclass.default_name)    \n"
      ],
      "metadata": {
        "colab": {
          "base_uri": "https://localhost:8080/"
        },
        "id": "U3O2c4Ru04bb",
        "outputId": "9d72d14b-79c2-4386-c8a8-a8439230244d"
      },
      "execution_count": null,
      "outputs": [
        {
          "output_type": "stream",
          "name": "stdout",
          "text": [
            "SubClass\n",
            "Inherited Class\n"
          ]
        }
      ]
    }
  ],
  "metadata": {
    "colab": {
      "name": "PYTHON.ipynb",
      "provenance": [],
      "authorship_tag": "ABX9TyN+88e4CNo7PuVuJE8BVsWR"
    },
    "kernelspec": {
      "display_name": "Python 3",
      "name": "python3"
    },
    "language_info": {
      "name": "python"
    }
  },
  "nbformat": 4,
  "nbformat_minor": 0
}