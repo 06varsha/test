{
  "nbformat": 4,
  "nbformat_minor": 0,
  "metadata": {
    "colab": {
      "name": "Assignment1.ipynb",
      "provenance": [],
      "authorship_tag": "ABX9TyP6x7+tf9PSLc/EQorO9kIw",
      "include_colab_link": true
    },
    "kernelspec": {
      "name": "python3",
      "display_name": "Python 3"
    },
    "language_info": {
      "name": "python"
    }
  },
  "cells": [
    {
      "cell_type": "markdown",
      "metadata": {
        "id": "view-in-github",
        "colab_type": "text"
      },
      "source": [
        "<a href=\"https://colab.research.google.com/github/06varsha/test/blob/main/Assignment1.ipynb\" target=\"_parent\"><img src=\"https://colab.research.google.com/assets/colab-badge.svg\" alt=\"Open In Colab\"/></a>"
      ]
    },
    {
      "cell_type": "code",
      "source": [
        "#Task-2\n",
        "Referral Id: DIRSS3129\n",
        "Name: Varsha Gupta"
      ],
      "metadata": {
        "id": "wLb_g8Wf5UVp"
      },
      "execution_count": null,
      "outputs": []
    },
    {
      "cell_type": "code",
      "source": [
        "# Write code in python to print following patterns:"
      ],
      "metadata": {
        "id": "OxQeO2xL6JEB"
      },
      "execution_count": null,
      "outputs": []
    },
    {
      "cell_type": "code",
      "source": [
        "1.\n",
        "\n",
        "for i in range(0,5):\n",
        "    for j in range(i,5):\n",
        "        print(\"5 \",end= \"\")\n",
        "    print(\"\\r\")    "
      ],
      "metadata": {
        "id": "Skp-_7Z65qLB",
        "colab": {
          "base_uri": "https://localhost:8080/"
        },
        "outputId": "79b67934-c191-455d-aa5f-9e1990f90689"
      },
      "execution_count": null,
      "outputs": [
        {
          "output_type": "stream",
          "name": "stdout",
          "text": [
            "5 5 5 5 5 \r\n",
            "5 5 5 5 \r\n",
            "5 5 5 \r\n",
            "5 5 \r\n",
            "5 \r\n"
          ]
        }
      ]
    },
    {
      "cell_type": "code",
      "source": [
        "2.\n",
        "\n",
        "for i in range(6, 1, -1):\n",
        "    for j in range(0, i):\n",
        "        print(j, \" \",end= \"\")\n",
        "    print(\"\\r\")\n"
      ],
      "metadata": {
        "id": "85CjEusS8W5C",
        "colab": {
          "base_uri": "https://localhost:8080/"
        },
        "outputId": "09d0128d-1816-46af-c625-20b9fa554684"
      },
      "execution_count": null,
      "outputs": [
        {
          "output_type": "stream",
          "name": "stdout",
          "text": [
            "0  1  2  3  4  5  \r\n",
            "0  1  2  3  4  \r\n",
            "0  1  2  3  \r\n",
            "0  1  2  \r\n",
            "0  1  \r\n"
          ]
        }
      ]
    },
    {
      "cell_type": "code",
      "source": [
        "3.\n",
        "\n",
        "for i in range(0,5):\n",
        "    for j in range(-1,i):\n",
        "        print((2*i)+1,\" \",end= \"\")\n",
        "    print(\"\\r\")    "
      ],
      "metadata": {
        "id": "EylTPCDO9fOo",
        "colab": {
          "base_uri": "https://localhost:8080/"
        },
        "outputId": "94a3ca6b-dfa4-4273-f91d-ab9c0969ac2f"
      },
      "execution_count": null,
      "outputs": [
        {
          "output_type": "stream",
          "name": "stdout",
          "text": [
            "1  \r\n",
            "3  3  \r\n",
            "5  5  5  \r\n",
            "7  7  7  7  \r\n",
            "9  9  9  9  9  \r\n"
          ]
        }
      ]
    },
    {
      "cell_type": "code",
      "source": [
        "4.\n",
        "\n",
        "for i in range(0,5):\n",
        "    for j in range(i+1,0,-1):\n",
        "        print(j,\" \",end= \"\")\n",
        "    print(\"\\r\")\n",
        "        "
      ],
      "metadata": {
        "id": "HJ728lnO_aOX",
        "colab": {
          "base_uri": "https://localhost:8080/"
        },
        "outputId": "bcb690ea-b2ba-40ed-fb9a-a61716bbf24c"
      },
      "execution_count": null,
      "outputs": [
        {
          "output_type": "stream",
          "name": "stdout",
          "text": [
            "1  \r\n",
            "2  1  \r\n",
            "3  2  1  \r\n",
            "4  3  2  1  \r\n",
            "5  4  3  2  1  \r\n"
          ]
        }
      ]
    },
    {
      "cell_type": "code",
      "source": [
        "5.\n",
        "\n",
        "start = 1\n",
        "stop = 2\n",
        "current_Number = stop\n",
        "for row in range(2, 6):\n",
        "    for column in range(start, stop):\n",
        "        current_Number -= 1\n",
        "        print(current_Number, end=' ')\n",
        "    print(\"\")\n",
        "    start = stop\n",
        "    stop += row\n",
        "    current_Number = stop\n"
      ],
      "metadata": {
        "id": "lkyW1pEDB5XI",
        "colab": {
          "base_uri": "https://localhost:8080/"
        },
        "outputId": "872ecbac-eb87-4ec4-955d-38f899c71bdf"
      },
      "execution_count": null,
      "outputs": [
        {
          "output_type": "stream",
          "name": "stdout",
          "text": [
            "1 \n",
            "3 2 \n",
            "6 5 4 \n",
            "10 9 8 7 \n"
          ]
        }
      ]
    },
    {
      "cell_type": "code",
      "source": [
        "6.\n",
        "\n",
        "def print_pascal_triangle(size):\n",
        "    for i in range(0, size):\n",
        "        for j in range(0, i + 1):\n",
        "            print(decide_number(i, j), end=\" \")\n",
        "        print()\n",
        "\n",
        "def decide_number(n, k):\n",
        "    num = 1\n",
        "    if k > n - k:\n",
        "        k = n - k\n",
        "    for i in range(0, k):\n",
        "        num = num * (n - i)\n",
        "        num = num // (i + 1)\n",
        "    return num\n",
        "\n",
        "# set rows\n",
        "rows = 7\n",
        "print_pascal_triangle(rows)"
      ],
      "metadata": {
        "id": "hz4JSwdYFSbL",
        "colab": {
          "base_uri": "https://localhost:8080/"
        },
        "outputId": "2341bc40-e8df-430a-aa21-665502b0f49a"
      },
      "execution_count": null,
      "outputs": [
        {
          "output_type": "stream",
          "name": "stdout",
          "text": [
            "1 \n",
            "1 1 \n",
            "1 2 1 \n",
            "1 3 3 1 \n",
            "1 4 6 4 1 \n",
            "1 5 10 10 5 1 \n",
            "1 6 15 20 15 6 1 \n"
          ]
        }
      ]
    },
    {
      "cell_type": "code",
      "source": [
        "7.\n",
        "\n",
        "for i in range(1,6):\n",
        "    for j in range(1,6):\n",
        "\n",
        "# Check condition if value of j is smaller or equal than\n",
        "# the j then print i otherwise print j\n",
        "\n",
        "        if(j<=i):\n",
        "           print(i,end= \" \")\n",
        "        else:\n",
        "           print(j,end= \" \")\n",
        "\n",
        "    print(\" \") \n",
        "\n"
      ],
      "metadata": {
        "id": "ty4jBeB0G5Gw",
        "colab": {
          "base_uri": "https://localhost:8080/"
        },
        "outputId": "e271e0e3-0bca-4254-8bf6-b9b99f0f43da"
      },
      "execution_count": null,
      "outputs": [
        {
          "output_type": "stream",
          "name": "stdout",
          "text": [
            "1 2 3 4 5  \n",
            "2 2 3 4 5  \n",
            "3 3 3 4 5  \n",
            "4 4 4 4 5  \n",
            "5 5 5 5 5  \n"
          ]
        }
      ]
    },
    {
      "cell_type": "code",
      "source": [
        "8\n",
        "\n",
        "for i in range(1,9):\n",
        "    for j in range(1, i+1):\n",
        "        if(i==1):\n",
        "            print(1,end=\" \")\n",
        "        else:\n",
        "            print(j*i,end= \" \")\n",
        "\n",
        "    print(\"\\r\")             \n",
        "\n"
      ],
      "metadata": {
        "id": "63IyQJriHLCf",
        "colab": {
          "base_uri": "https://localhost:8080/"
        },
        "outputId": "07f5036a-c13b-4fca-9c93-b8358178889c"
      },
      "execution_count": null,
      "outputs": [
        {
          "output_type": "stream",
          "name": "stdout",
          "text": [
            "1 \r\n",
            "2 4 \r\n",
            "3 6 9 \r\n",
            "4 8 12 16 \r\n",
            "5 10 15 20 25 \r\n",
            "6 12 18 24 30 36 \r\n",
            "7 14 21 28 35 42 49 \r\n",
            "8 16 24 32 40 48 56 64 \r\n"
          ]
        }
      ]
    },
    {
      "cell_type": "code",
      "source": [
        "9.\n",
        "\n",
        "k = 8\n",
        "for i in range(5, -1, -1):\n",
        "    for j in range(k, 0, -1):\n",
        "        print(end=\" \")\n",
        "    k = k + 1\n",
        "    for j in range(0, i + 1):\n",
        "        print(\"*\", end=\" \")\n",
        "    print(\"\")\n",
        "\n"
      ],
      "metadata": {
        "id": "yJ1xIoDpIGzY",
        "colab": {
          "base_uri": "https://localhost:8080/"
        },
        "outputId": "f93d3a93-89dd-41f8-c9e2-df77609f5680"
      },
      "execution_count": null,
      "outputs": [
        {
          "output_type": "stream",
          "name": "stdout",
          "text": [
            "        * * * * * * \n",
            "         * * * * * \n",
            "          * * * * \n",
            "           * * * \n",
            "            * * \n",
            "             * \n"
          ]
        }
      ]
    },
    {
      "cell_type": "code",
      "source": [
        "10.\n",
        "\n",
        "# number of spaces\n",
        "k = 12\n",
        "\n",
        "# outer loop to handle number of rows\n",
        "for i in range(0, 7):\n",
        "\n",
        "  # inner loop to handle number spaces\n",
        "  # values changing acc. to requirement\n",
        "    for j in range(0, k):\n",
        "        print(end=\" \")\n",
        "\n",
        " # decrementing k after each loop\n",
        "    k = k - 1\n",
        "\n",
        " # inner loop to handle number of columns\n",
        " # values changing acc. to outer loop\n",
        "    for j in range(0, i + 1):\n",
        "\n",
        " # printing stars\n",
        "       print(\"*\", end=' ')\n",
        "\n",
        " # ending line after each row\n",
        "    print(\" \")"
      ],
      "metadata": {
        "id": "9hmR54-8Ko0L",
        "colab": {
          "base_uri": "https://localhost:8080/"
        },
        "outputId": "02df797b-bdb0-40e0-a81b-2476a8af5a4d"
      },
      "execution_count": null,
      "outputs": [
        {
          "output_type": "stream",
          "name": "stdout",
          "text": [
            "            *  \n",
            "           * *  \n",
            "          * * *  \n",
            "         * * * *  \n",
            "        * * * * *  \n",
            "       * * * * * *  \n",
            "      * * * * * * *  \n"
          ]
        }
      ]
    },
    {
      "cell_type": "code",
      "source": [
        "11.\n",
        "\n",
        "# Outer loop will print the number of rows\n",
        "for i in range(0, 6):\n",
        "  # This inner loop will print the stars\n",
        "    for j in range(0, i + 1):\n",
        "        print(\"*\", end=' ')\n",
        " # Change line after each iteration\n",
        "    print(\" \")\n",
        "    \n",
        "print(\" \")    \n",
        " # For second pattern\n",
        "for i in range(7, 0, -1):\n",
        "    for j in range(0, i - 1):\n",
        "        print(\"*\", end=' ')\n",
        "    print(\" \")\n"
      ],
      "metadata": {
        "id": "wz5YF-BkL9MR",
        "colab": {
          "base_uri": "https://localhost:8080/"
        },
        "outputId": "e4247a8e-e4a6-4891-dd2d-59d19a0a1007"
      },
      "execution_count": null,
      "outputs": [
        {
          "output_type": "stream",
          "name": "stdout",
          "text": [
            "*  \n",
            "* *  \n",
            "* * *  \n",
            "* * * *  \n",
            "* * * * *  \n",
            "* * * * * *  \n",
            " \n",
            "* * * * * *  \n",
            "* * * * *  \n",
            "* * * *  \n",
            "* * *  \n",
            "* *  \n",
            "*  \n",
            " \n"
          ]
        }
      ]
    },
    {
      "cell_type": "code",
      "source": [
        "12.\n",
        "\n",
        "for i in range(0, 5):\n",
        "    for j in range(0, i + 1):\n",
        "        print(\"*\", end=' ')\n",
        "    print(\"\\r\")\n",
        "\n",
        "for i in range(5, 0, -1):\n",
        "    for j in range(0, i - 1):\n",
        "        print(\"*\", end=' ')\n",
        "    print(\"\\r\")\n",
        "    \n"
      ],
      "metadata": {
        "id": "iYpDZPkIMYUf",
        "colab": {
          "base_uri": "https://localhost:8080/"
        },
        "outputId": "33e9cb6c-89b2-4cb9-9d69-ac3fb986a51c"
      },
      "execution_count": null,
      "outputs": [
        {
          "output_type": "stream",
          "name": "stdout",
          "text": [
            "* \r\n",
            "* * \r\n",
            "* * * \r\n",
            "* * * * \r\n",
            "* * * * * \r\n",
            "* * * * \r\n",
            "* * * \r\n",
            "* * \r\n",
            "* \r\n",
            "\r\n"
          ]
        }
      ]
    },
    {
      "cell_type": "code",
      "source": [
        "13.\n",
        "\n",
        "rows = 5\n",
        "i = 1\n",
        "while i <= rows:\n",
        "    j = i\n",
        "    while j < rows:\n",
        "        # display space\n",
        "        print(' ', end=' ')\n",
        "        j += 1\n",
        "    k = 1\n",
        "    while k <= i:\n",
        "        print('*', end=' ')\n",
        "        k += 1\n",
        "    print()\n",
        "    i += 1\n",
        "\n",
        "i = rows\n",
        "while i >= 1:\n",
        "    j = i\n",
        "    while j <= rows:\n",
        "        print(' ', end=' ')\n",
        "        j += 1\n",
        "    k = 1\n",
        "    while k < i:\n",
        "        print('*', end=' ')\n",
        "        k += 1\n",
        "    print('')\n",
        "    i -= 1  \n",
        "\n",
        "  "
      ],
      "metadata": {
        "id": "byK866WsMqzI",
        "colab": {
          "base_uri": "https://localhost:8080/"
        },
        "outputId": "c6f46c85-6874-47ba-b72f-a8833e708ab6"
      },
      "execution_count": null,
      "outputs": [
        {
          "output_type": "stream",
          "name": "stdout",
          "text": [
            "        * \n",
            "      * * \n",
            "    * * * \n",
            "  * * * * \n",
            "* * * * * \n",
            "  * * * * \n",
            "    * * * \n",
            "      * * \n",
            "        * \n",
            "          \n"
          ]
        }
      ]
    },
    {
      "cell_type": "code",
      "source": [
        "14.\n",
        "\n",
        "rows = 5\n",
        "i = 0\n",
        "while i <= rows - 1:\n",
        "    j = 0\n",
        "    while j < i:\n",
        "        # display space\n",
        "        print('', end=' ')\n",
        "        j += 1\n",
        "    k = i\n",
        "    while k <= rows - 1:\n",
        "        print('*', end=' ')\n",
        "        k += 1\n",
        "    print()\n",
        "    i += 1\n",
        "\n",
        "i = rows - 1\n",
        "while i >= 0:\n",
        "    j = 0\n",
        "    while j < i:\n",
        "        print('', end=' ')\n",
        "        j += 1\n",
        "    k = i\n",
        "    while k <= rows - 1:\n",
        "        print('*', end=' ')\n",
        "        k += 1\n",
        "    print('')       \n",
        "    i -= 1   \n",
        "          "
      ],
      "metadata": {
        "id": "rxQZrD5cOSYJ",
        "colab": {
          "base_uri": "https://localhost:8080/"
        },
        "outputId": "410d2e45-28fd-419d-eb9f-2b62a229d520"
      },
      "execution_count": null,
      "outputs": [
        {
          "output_type": "stream",
          "name": "stdout",
          "text": [
            "* * * * * \n",
            " * * * * \n",
            "  * * * \n",
            "   * * \n",
            "    * \n",
            "    * \n",
            "   * * \n",
            "  * * * \n",
            " * * * * \n",
            "* * * * * \n"
          ]
        }
      ]
    },
    {
      "cell_type": "code",
      "source": [
        "15.\n",
        "\n",
        "rows = 14\n",
        "print(\"*\" * rows, end=\"\\n\")\n",
        "i = (rows // 2) - 1\n",
        "j = 2\n",
        "while i != 0:\n",
        "    while j <= (rows - 2):\n",
        "        print(\"*\" * i, end=\"\")\n",
        "        print(\"_\" * j, end=\"\")\n",
        "        print(\"*\" * i, end=\"\\n\")\n",
        "        i = i - 1\n",
        "        j = j + 2\n",
        "    "
      ],
      "metadata": {
        "id": "2F5nQAj2O1_q",
        "colab": {
          "base_uri": "https://localhost:8080/"
        },
        "outputId": "f2777fb0-2083-4fc2-f80c-e022fd85b38a"
      },
      "execution_count": null,
      "outputs": [
        {
          "output_type": "stream",
          "name": "stdout",
          "text": [
            "**************\n",
            "******__******\n",
            "*****____*****\n",
            "****______****\n",
            "***________***\n",
            "**__________**\n",
            "*____________*\n"
          ]
        }
      ]
    }
  ]
}