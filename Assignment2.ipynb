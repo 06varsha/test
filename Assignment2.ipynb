{
  "nbformat": 4,
  "nbformat_minor": 0,
  "metadata": {
    "colab": {
      "name": "Assignment2.ipynb",
      "provenance": [],
      "authorship_tag": "ABX9TyP1++1Uv+3gga/6V6dvBTd7"
    },
    "kernelspec": {
      "name": "python3",
      "display_name": "Python 3"
    },
    "language_info": {
      "name": "python"
    }
  },
  "cells": [
    {
      "cell_type": "code",
      "source": [
        "#Task-3\n",
        "Referral Id: DIRSS3129\n",
        "Name: Varsha Gupta"
      ],
      "metadata": {
        "id": "elV_JebNIn5t"
      },
      "execution_count": null,
      "outputs": []
    },
    {
      "cell_type": "code",
      "execution_count": 11,
      "metadata": {
        "id": "hywPf6TsGj4i",
        "colab": {
          "base_uri": "https://localhost:8080/"
        },
        "outputId": "c7383471-00e7-4ff4-9d51-66c5faaf74d0"
      },
      "outputs": [
        {
          "output_type": "stream",
          "name": "stdout",
          "text": [
            "Regex software company\n"
          ]
        }
      ],
      "source": [
        "#Q1. Write a lambda expression to extract first word of a string.\n",
        "# lambda function\n",
        "\n",
        "x = \"Regex software company\"\n",
        "\n",
        "# lambda gets pass to print\n",
        "(lambda x : print(x))(x)\n"
      ]
    },
    {
      "cell_type": "code",
      "source": [
        "#Q2. Write a function to extract first word of s string (with many words separated by space).\n",
        "a_string = \"Hello World\"\n",
        "first_word = a_string.split()[0]\n",
        "\n",
        "print(first_word)\n"
      ],
      "metadata": {
        "id": "s9RvQAQGII5d",
        "colab": {
          "base_uri": "https://localhost:8080/"
        },
        "outputId": "57172b09-014c-43d0-b0be-b0cafb234b4f"
      },
      "execution_count": null,
      "outputs": [
        {
          "output_type": "stream",
          "name": "stdout",
          "text": [
            "Hello\n"
          ]
        }
      ]
    },
    {
      "cell_type": "code",
      "source": [
        "#Q3. Extract the first word from every string from a list of strings by using map function.\n",
        "# to extract words from string\n",
        "# using split()\n",
        "\n",
        "# initializing string\n",
        "test_string = \"Hello World, Regex, Computer science, Data science\"\n",
        "\n",
        "# printing original string\n",
        "print (\"The original string is : \" + test_string)\n",
        "\n",
        "# using split()\n",
        "# to extract words from string\n",
        "res = test_string.split()\n",
        "\n",
        "# printing result\n",
        "print (\"The list of words is : \" + str(res))\n",
        "\n",
        "\n"
      ],
      "metadata": {
        "id": "8zTefVtcIjGM",
        "colab": {
          "base_uri": "https://localhost:8080/"
        },
        "outputId": "84b60ee5-b971-4346-d54c-db8da184c54d"
      },
      "execution_count": 12,
      "outputs": [
        {
          "output_type": "stream",
          "name": "stdout",
          "text": [
            "The original string is : Hello World, Regex, Computer science, Data science\n",
            "The list of words is : ['Hello', 'World,', 'Regex,', 'Computer', 'science,', 'Data', 'science']\n"
          ]
        }
      ]
    },
    {
      "cell_type": "code",
      "source": [
        "#Q4. Write a function to return a list of prime factors of a given number.\n",
        "# Python program to print prime factors\n",
        "\n",
        "import math\n",
        "\n",
        "# A function to print all prime factors of\n",
        "# a given number n\n",
        "def primeFactors(n):\n",
        "\n",
        "    # Print the number of two's that divide n\n",
        "    while n % 2 == 0:\n",
        "        print(2,)\n",
        "        n = n / 2\n",
        "\n",
        "    # n must be odd at this point\n",
        "    # so a skip of 2( i = i + 2) can be used\n",
        "    for i in range(3,int(math.sqrt(n))+1,2):\n",
        "\n",
        "        # while i divides n , print i and divide n\n",
        "        while n % i== 0:\n",
        "            print(i,)\n",
        "            n = n / i\n",
        "\n",
        "   # Condition if n is a prime\n",
        "   # number greater than 2 \n",
        "       \n",
        "\n",
        "# Driver Program to test above function\n",
        "\n",
        "\n",
        "n = 315\n",
        "primeFactors(n)\n",
        "\n"
      ],
      "metadata": {
        "id": "fNqNUH3xJNKL",
        "colab": {
          "base_uri": "https://localhost:8080/"
        },
        "outputId": "53ee8251-a3f3-47b9-d740-e43380b82a46"
      },
      "execution_count": null,
      "outputs": [
        {
          "output_type": "stream",
          "name": "stdout",
          "text": [
            "3\n",
            "3\n",
            "5\n",
            "7\n"
          ]
        }
      ]
    },
    {
      "cell_type": "code",
      "source": [
        "#Q5. Write a function that finds 2nd largest among 4 numbers (Repetitions are allowed, without sorting).\n",
        "# Python program to find second largest\n",
        "# number in a list\n",
        "\n",
        "# list of numbers - length of\n",
        "# list should be at least 2\n",
        "list1 = [10, 20, 40, 90]\n",
        "\n",
        "mx=max(list1[0],list1[1])\n",
        "secondmax=min(list1[0],list1[1])\n",
        "n =len(list1)\n",
        "for i in range(2,n):\n",
        "  if list1[i]>mx:\n",
        "      secondmax=mx\n",
        "      mx=list1[i]\n",
        "  elif list1[i]>secondmax and \\\n",
        "      mx != list1[i]:\n",
        "      secondmax=list1[i]\n",
        "\n",
        "print(\"second highest number is : \",\\\n",
        "    str(secondmax))\n",
        "      \n"
      ],
      "metadata": {
        "id": "U0cRoqm4JZzj",
        "colab": {
          "base_uri": "https://localhost:8080/"
        },
        "outputId": "5443a363-adcc-4f5c-9053-f00a252a1e6a"
      },
      "execution_count": null,
      "outputs": [
        {
          "output_type": "stream",
          "name": "stdout",
          "text": [
            "second highest number is :  40\n"
          ]
        }
      ]
    },
    {
      "cell_type": "code",
      "source": [
        "#Q6. Take an input from the user as string and find out all the non duplicate words from the input\n",
        "def nonduplicate(a,b):\n",
        "  list_a = a.split()\n",
        "  list_b = b.split()\n",
        "  uc = ''\n",
        "  for i in list_a:\n",
        "      if i not in list_b:\n",
        "          uc = uc+\" \"+i\n",
        "  for j in list_b:\n",
        "      if j not in list_a:\n",
        "          uc = uc+\" \"+j\n",
        "\n",
        "  return uc        \n",
        "\n",
        "# Driver code\n",
        "a = \"hello I am good hello user, user welcome\"\n",
        "b = \"hello I am good user welcome\"\n",
        "print(nonduplicate(a,b))\n",
        "\n"
      ],
      "metadata": {
        "id": "LQDAoTHYJwQ3",
        "colab": {
          "base_uri": "https://localhost:8080/"
        },
        "outputId": "38736eeb-2fa9-4bb3-9c61-8823b99dbe36"
      },
      "execution_count": null,
      "outputs": [
        {
          "output_type": "stream",
          "name": "stdout",
          "text": [
            " user,\n"
          ]
        }
      ]
    },
    {
      "cell_type": "code",
      "source": [
        "#Q7. Take a input from the user and verify the data is a palindrome or not\n",
        "# Python program to check\n",
        "# if a string is palindrome\n",
        "# or not\n",
        "\n",
        "x = \"NAMAN\"\n",
        "\n",
        "w = \"\"\n",
        "for i in x:\n",
        "  w = i + w\n",
        "\n",
        "if (x == w):\n",
        "    print(\"Yes\")\n",
        "else:\n",
        "  print(\"No\")\n",
        "\n"
      ],
      "metadata": {
        "id": "4x6JWyPUK33v",
        "colab": {
          "base_uri": "https://localhost:8080/"
        },
        "outputId": "a7e463e2-ab4d-47dd-be0b-8b3048b8bcd6"
      },
      "execution_count": null,
      "outputs": [
        {
          "output_type": "stream",
          "name": "stdout",
          "text": [
            "Yes\n"
          ]
        }
      ]
    },
    {
      "cell_type": "code",
      "source": [
        "#Q8. Use exception handling to find out the LCM & HCF of two numbers.\n",
        "print(\"Enter Two Numbers: \", end=\"\")\n",
        "no = 7\n",
        "nt = 56\n",
        "\n",
        "a = no\n",
        "b = nt\n",
        "while b!=0:\n",
        "    temp = b\n",
        "    b = a%b\n",
        "    a = temp\n",
        "\n",
        "hcf = a\n",
        "lcm = int((no*nt)/hcf)\n",
        "\n",
        "print(\"\\nLCM (\" + str(no) + \", \" + str(nt) + \") = \", lcm)\n",
        "print(\"HCF (\" + str(no) + \", \" + str(nt) + \") = \", hcf)\n",
        "\n",
        "\n"
      ],
      "metadata": {
        "id": "DM-GVo2ZLH6t",
        "colab": {
          "base_uri": "https://localhost:8080/"
        },
        "outputId": "53db2ba4-941c-4d22-a8e7-b85cbb30b2da"
      },
      "execution_count": null,
      "outputs": [
        {
          "output_type": "stream",
          "name": "stdout",
          "text": [
            "Enter Two Numbers: \n",
            "LCM (7, 56) =  56\n",
            "HCF (7, 56) =  7\n"
          ]
        }
      ]
    }
  ]
}