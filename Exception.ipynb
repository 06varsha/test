{
  "nbformat": 4,
  "nbformat_minor": 0,
  "metadata": {
    "colab": {
      "name": "Exception.ipynb",
      "provenance": [],
      "authorship_tag": "ABX9TyNk0rdq4Tp70EGD974iRkIl"
    },
    "kernelspec": {
      "name": "python3",
      "display_name": "Python 3"
    },
    "language_info": {
      "name": "python"
    }
  },
  "cells": [
    {
      "cell_type": "code",
      "source": [
        "#Task-5\n",
        "Name: Varsha Gupta\n",
        "Referral id: DIRSS3129"
      ],
      "metadata": {
        "id": "36gJYUrvL9SC"
      },
      "execution_count": null,
      "outputs": []
    },
    {
      "cell_type": "code",
      "source": [
        "#Q1.\n",
        "import string\n",
        "\n",
        "test_string = \"I am Varsha Gupta.My id is 444444.My contact no is 7676554433.I live in Jaipur.I have joined REGex Software Services on 7 Jan 2022.\"\n",
        "\n",
        "# printing original string\n",
        "print(\"The original string is: \" + test_string)\n",
        "\n",
        "# using sum() + strip() + split() function\n",
        "res = sum([i.strip(string.punctuation).isalpha() for i in\n",
        "        test_string.split()])\n",
        "\n",
        "# no of words\n",
        "print(\"The number of words in string are : \" + str(res))\n",
        "print(\"The number of characters in string are : \", len(test_string))\n"
      ],
      "metadata": {
        "colab": {
          "base_uri": "https://localhost:8080/"
        },
        "id": "47w6rZ8kJeEc",
        "outputId": "500c1a69-7f6d-4345-f355-23bf9095b4c2"
      },
      "execution_count": null,
      "outputs": [
        {
          "output_type": "stream",
          "name": "stdout",
          "text": [
            "The original string is: I am Varsha Gupta.My id is 444444.My contact no is 7676554433.I live in Jaipur.I have joined REGex Software Services on 7 Jan 2022.\n",
            "The number of words in string are : 17\n",
            "The number of characters in string are :  131\n"
          ]
        }
      ]
    },
    {
      "cell_type": "code",
      "source": [
        "#Q2.\n",
        "class WriteError(Exception):\n",
        "  \"\"\"Cannot Write text in Read Only Mode\"\"\"        # User Defined Exception\n",
        "  pass\n",
        "\n",
        "try:\n",
        "  file = file.write(\"My Contact Number is 7777777777\")\n",
        "  raise WriteError\n",
        "\n",
        "except:\n",
        "    print(f\"Cannot Write to a File in Read Only Mode...!!!Closing the Program..\\n{WriteError}\")    \n"
      ],
      "metadata": {
        "colab": {
          "base_uri": "https://localhost:8080/"
        },
        "id": "ztmRII5cE-Oa",
        "outputId": "fe065aa9-60f4-4e0b-ed35-98c569d41b24"
      },
      "execution_count": null,
      "outputs": [
        {
          "output_type": "stream",
          "name": "stdout",
          "text": [
            "Cannot Write to a File in Read Only Mode...!!!Closing the Program..\n",
            "<class '__main__.WriteError'>\n"
          ]
        }
      ]
    },
    {
      "cell_type": "code",
      "source": [
        "#Q3.\n",
        "def NegativeDistanceError(Exception):\n",
        "  \"Distance Cannot be Negative\"\n",
        "  pass\n",
        "\n",
        "def cal_time(kms):\n",
        "  return round(kms/20,2)        # Assume that truck travel 20KMS per day\n",
        "\n",
        "try:\n",
        "  kms = float(input(\"Enter the Distance to be Travelled:\"))\n",
        "  if kms<0.0:\n",
        "    raise NegativeDistanceError\n",
        "  else:\n",
        "    print(f\"Days Required to Travel{kms} Kilometers is:\",cal_time(kms))\n",
        "except:\n",
        "  print(f\"\\nDistance Cannot be Negative.... Exiting Program...!!!\\n{NegativeDistanceError}\")\n"
      ],
      "metadata": {
        "colab": {
          "base_uri": "https://localhost:8080/"
        },
        "id": "zWugIn2sB1Uy",
        "outputId": "cbddb633-a978-4aac-bc06-8b15f05bd8cf"
      },
      "execution_count": null,
      "outputs": [
        {
          "output_type": "stream",
          "name": "stdout",
          "text": [
            "Enter the Distance to be Travelled:-50\n",
            "\n",
            "Distance Cannot be Negative.... Exiting Program...!!!\n",
            "<function NegativeDistanceError at 0x7f1859027f80>\n"
          ]
        }
      ]
    },
    {
      "cell_type": "code",
      "source": [
        "#Q4.\n",
        "def division(a,b):\n",
        "  return round(a/b,2)\n",
        "\n",
        "a = int(input(\"Enter First Number:\"))\n",
        "b = int(input(\"Enter Second Number:\"))\n",
        "try:\n",
        "  print(division(a,b))\n",
        "except:\n",
        "  print(f\"\\nDivision by Zero is Not Possible... Exiting Program...!!!\\n{ZeroDivisionError}\")    "
      ],
      "metadata": {
        "colab": {
          "base_uri": "https://localhost:8080/"
        },
        "id": "dCcdnmpDAKKB",
        "outputId": "8fdd116a-2af8-4119-f367-fe149cf42216"
      },
      "execution_count": null,
      "outputs": [
        {
          "output_type": "stream",
          "name": "stdout",
          "text": [
            "Enter First Number:10\n",
            "Enter Second Number:0\n",
            "\n",
            "Division by Zero is Not Possible... Exiting Program...!!!\n",
            "<class 'ZeroDivisionError'>\n"
          ]
        }
      ]
    }
  ]
}