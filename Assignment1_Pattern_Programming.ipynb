{
  "nbformat": 4,
  "nbformat_minor": 0,
  "metadata": {
    "colab": {
      "provenance": [],
      "authorship_tag": "ABX9TyMxKA+NtXEaBkTJKCIdhAWv"
    },
    "kernelspec": {
      "name": "python3",
      "display_name": "Python 3"
    },
    "language_info": {
      "name": "python"
    }
  },
  "cells": [
    {
      "cell_type": "markdown",
      "source": [
        "Name: Varsha Gupta"
      ],
      "metadata": {
        "id": "Y1QWnIjpbD0E"
      }
    },
    {
      "cell_type": "markdown",
      "source": [
        "Create an empty dictionary called Car_0 . Then fill the dictionary with Keys : color , speed , X_position and Y_position.\n",
        "\n",
        "car_0 = {'x_position': 10, 'y_position': 72, 'speed': 'medium'} .\n",
        "\n",
        "a) If the speed is slow the coordinates of the X_pos get incremented by 2.\n",
        "\n",
        "b) If the speed is Medium the coordinates of the X_pos gets incremented by 9\n",
        "\n",
        "c) Now if the speed is Fast the coordinates of the X_pos gets incremented by 22.\n",
        "\n",
        "Print the modified dictionary."
      ],
      "metadata": {
        "id": "jjXi8M-_bIMA"
      }
    },
    {
      "cell_type": "code",
      "source": [
        "Car_0 = {}\n",
        "Car_0['x_position'] = 10\n",
        "Car_0['y_position'] = 72\n",
        "Car_0['speed'] = 'medium'\n",
        "Car_0['color'] = 'blue'\n",
        "if Car_0['speed'] == 'slow':\n",
        "    Car_0['x_position'] += 2\n",
        "elif Car_0['speed'] == 'medium':\n",
        "    Car_0['x_position'] += 9\n",
        "elif Car_0['speed'] == 'fast':\n",
        "    Car_0['x_position'] += 22\n",
        "print(Car_0)"
      ],
      "metadata": {
        "colab": {
          "base_uri": "https://localhost:8080/"
        },
        "id": "Flp2_jUCbK5p",
        "outputId": "50ac5397-65ce-40ee-f5db-5a8a6b0b62f0"
      },
      "execution_count": 1,
      "outputs": [
        {
          "output_type": "stream",
          "name": "stdout",
          "text": [
            "{'x_position': 19, 'y_position': 72, 'speed': 'medium', 'color': 'blue'}\n"
          ]
        }
      ]
    },
    {
      "cell_type": "markdown",
      "source": [
        "Pattern Programming Questions"
      ],
      "metadata": {
        "id": "bRWNO4xqbSJB"
      }
    },
    {
      "cell_type": "code",
      "source": [
        "1.\n",
        "\n",
        "for i in range(0,5):\n",
        "    for j in range(i,5):\n",
        "        print(\"5 \",end= \"\")\n",
        "    print(\"\\r\")  "
      ],
      "metadata": {
        "colab": {
          "base_uri": "https://localhost:8080/"
        },
        "id": "Vrir1RMObQ5t",
        "outputId": "7f83f3b8-4049-4518-eb0d-30b172d59b76"
      },
      "execution_count": 2,
      "outputs": [
        {
          "output_type": "stream",
          "name": "stdout",
          "text": [
            "5 5 5 5 5 \r\n",
            "5 5 5 5 \r\n",
            "5 5 5 \r\n",
            "5 5 \r\n",
            "5 \r\n"
          ]
        }
      ]
    },
    {
      "cell_type": "code",
      "source": [
        "2.\n",
        "\n",
        "for i in range(6, 1, -1):\n",
        "    for j in range(0, i):\n",
        "        print(j, \" \",end= \"\")\n",
        "    print(\"\\r\")"
      ],
      "metadata": {
        "colab": {
          "base_uri": "https://localhost:8080/"
        },
        "id": "jaWlow08bciA",
        "outputId": "26593985-517c-4fba-adc2-868fc1b71e50"
      },
      "execution_count": 3,
      "outputs": [
        {
          "output_type": "stream",
          "name": "stdout",
          "text": [
            "0  1  2  3  4  5  \r\n",
            "0  1  2  3  4  \r\n",
            "0  1  2  3  \r\n",
            "0  1  2  \r\n",
            "0  1  \r\n"
          ]
        }
      ]
    },
    {
      "cell_type": "code",
      "source": [
        "3.\n",
        "\n",
        "for i in range(0,5):\n",
        "    for j in range(-1,i):\n",
        "        print((2*i)+1,\" \",end= \"\")\n",
        "    print(\"\\r\") "
      ],
      "metadata": {
        "colab": {
          "base_uri": "https://localhost:8080/"
        },
        "id": "26AbxAHabf6A",
        "outputId": "bb0ac6e3-fa3f-4d7c-9cd7-81c8f82e0f09"
      },
      "execution_count": 4,
      "outputs": [
        {
          "output_type": "stream",
          "name": "stdout",
          "text": [
            "1  \r\n",
            "3  3  \r\n",
            "5  5  5  \r\n",
            "7  7  7  7  \r\n",
            "9  9  9  9  9  \r\n"
          ]
        }
      ]
    },
    {
      "cell_type": "code",
      "source": [
        "4.\n",
        "\n",
        "for i in range(0,5):\n",
        "    for j in range(i+1,0,-1):\n",
        "        print(j,\" \",end= \"\")\n",
        "    print(\"\\r\")"
      ],
      "metadata": {
        "colab": {
          "base_uri": "https://localhost:8080/"
        },
        "id": "modqLie2bicn",
        "outputId": "14388cd3-7816-4926-a67d-f112f6969318"
      },
      "execution_count": 5,
      "outputs": [
        {
          "output_type": "stream",
          "name": "stdout",
          "text": [
            "1  \r\n",
            "2  1  \r\n",
            "3  2  1  \r\n",
            "4  3  2  1  \r\n",
            "5  4  3  2  1  \r\n"
          ]
        }
      ]
    },
    {
      "cell_type": "code",
      "source": [
        "5.\n",
        "\n",
        "start = 1\n",
        "stop = 2\n",
        "current_Number = stop\n",
        "for row in range(2, 6):\n",
        "    for column in range(start, stop):\n",
        "        current_Number -= 1\n",
        "        print(current_Number, end=' ')\n",
        "    print(\"\")\n",
        "    start = stop\n",
        "    stop += row\n",
        "    current_Number = stop"
      ],
      "metadata": {
        "colab": {
          "base_uri": "https://localhost:8080/"
        },
        "id": "JMsGG6PEblvv",
        "outputId": "05682109-818d-432d-ea1c-a1e805d07d76"
      },
      "execution_count": 6,
      "outputs": [
        {
          "output_type": "stream",
          "name": "stdout",
          "text": [
            "1 \n",
            "3 2 \n",
            "6 5 4 \n",
            "10 9 8 7 \n"
          ]
        }
      ]
    },
    {
      "cell_type": "code",
      "source": [
        "6.\n",
        "\n",
        "def print_pascal_triangle(size):\n",
        "    for i in range(0, size):\n",
        "        for j in range(0, i + 1):\n",
        "            print(decide_number(i, j), end=\" \")\n",
        "        print()\n",
        "\n",
        "def decide_number(n, k):\n",
        "    num = 1\n",
        "    if k > n - k:\n",
        "        k = n - k\n",
        "    for i in range(0, k):\n",
        "        num = num * (n - i)\n",
        "        num = num // (i + 1)\n",
        "    return num\n",
        "\n",
        "# set rows\n",
        "rows = 7\n",
        "print_pascal_triangle(rows)"
      ],
      "metadata": {
        "colab": {
          "base_uri": "https://localhost:8080/"
        },
        "id": "n33wWUuhbpEn",
        "outputId": "9f9fca61-0ac5-4aba-f248-1bc2fac8ce59"
      },
      "execution_count": 7,
      "outputs": [
        {
          "output_type": "stream",
          "name": "stdout",
          "text": [
            "1 \n",
            "1 1 \n",
            "1 2 1 \n",
            "1 3 3 1 \n",
            "1 4 6 4 1 \n",
            "1 5 10 10 5 1 \n",
            "1 6 15 20 15 6 1 \n"
          ]
        }
      ]
    },
    {
      "cell_type": "code",
      "source": [
        "7.\n",
        "\n",
        "for i in range(1,6):\n",
        "    for j in range(1,6):\n",
        "\n",
        "# Check condition if value of j is smaller or equal than\n",
        "# the j then print i otherwise print j\n",
        "\n",
        "        if(j<=i):\n",
        "           print(i,end= \" \")\n",
        "        else:\n",
        "           print(j,end= \" \")\n",
        "\n",
        "    print(\" \") \n",
        "\n"
      ],
      "metadata": {
        "id": "ty4jBeB0G5Gw",
        "colab": {
          "base_uri": "https://localhost:8080/"
        },
        "outputId": "96f840bc-fa6c-4079-bccb-357e4cd7b3fb"
      },
      "execution_count": 8,
      "outputs": [
        {
          "output_type": "stream",
          "name": "stdout",
          "text": [
            "1 2 3 4 5  \n",
            "2 2 3 4 5  \n",
            "3 3 3 4 5  \n",
            "4 4 4 4 5  \n",
            "5 5 5 5 5  \n"
          ]
        }
      ]
    },
    {
      "cell_type": "code",
      "source": [
        "8.\n",
        "\n",
        "for i in range(1,9):\n",
        "    for j in range(1, i+1):\n",
        "        if(i==1):\n",
        "            print(1,end=\" \")\n",
        "        else:\n",
        "            print(j*i,end= \" \")\n",
        "\n",
        "    print(\"\\r\")"
      ],
      "metadata": {
        "colab": {
          "base_uri": "https://localhost:8080/"
        },
        "id": "X1L9ZwhQbxOS",
        "outputId": "f9d48f82-a479-4045-c16d-c72aaf403158"
      },
      "execution_count": 9,
      "outputs": [
        {
          "output_type": "stream",
          "name": "stdout",
          "text": [
            "1 \r\n",
            "2 4 \r\n",
            "3 6 9 \r\n",
            "4 8 12 16 \r\n",
            "5 10 15 20 25 \r\n",
            "6 12 18 24 30 36 \r\n",
            "7 14 21 28 35 42 49 \r\n",
            "8 16 24 32 40 48 56 64 \r\n"
          ]
        }
      ]
    },
    {
      "cell_type": "code",
      "source": [
        "9.\n",
        "\n",
        "k = 8\n",
        "for i in range(5, -1, -1):\n",
        "    for j in range(k, 0, -1):\n",
        "        print(end=\" \")\n",
        "    k = k + 1\n",
        "    for j in range(0, i + 1):\n",
        "        print(\"*\", end=\" \")\n",
        "    print(\"\")"
      ],
      "metadata": {
        "colab": {
          "base_uri": "https://localhost:8080/"
        },
        "id": "-XfzTg0Eb2kB",
        "outputId": "51c32ced-9da2-4c98-d76a-361b38ac5054"
      },
      "execution_count": 10,
      "outputs": [
        {
          "output_type": "stream",
          "name": "stdout",
          "text": [
            "        * * * * * * \n",
            "         * * * * * \n",
            "          * * * * \n",
            "           * * * \n",
            "            * * \n",
            "             * \n"
          ]
        }
      ]
    },
    {
      "cell_type": "code",
      "source": [
        "10.\n",
        "\n",
        "# number of spaces\n",
        "k = 12\n",
        "\n",
        "# outer loop to handle number of rows\n",
        "for i in range(0, 7):\n",
        "\n",
        "  # inner loop to handle number spaces\n",
        "  # values changing acc. to requirement\n",
        "    for j in range(0, k):\n",
        "        print(end=\" \")\n",
        "\n",
        " # decrementing k after each loop\n",
        "    k = k - 1\n",
        "\n",
        " # inner loop to handle number of columns\n",
        " # values changing acc. to outer loop\n",
        "    for j in range(0, i + 1):\n",
        "\n",
        " # printing stars\n",
        "       print(\"*\", end=' ')\n",
        "\n",
        " # ending line after each row\n",
        "    print(\" \")"
      ],
      "metadata": {
        "colab": {
          "base_uri": "https://localhost:8080/"
        },
        "id": "WdBK83zxb6ka",
        "outputId": "b395e028-f459-4ff7-d348-c6bfa88f7291"
      },
      "execution_count": 11,
      "outputs": [
        {
          "output_type": "stream",
          "name": "stdout",
          "text": [
            "            *  \n",
            "           * *  \n",
            "          * * *  \n",
            "         * * * *  \n",
            "        * * * * *  \n",
            "       * * * * * *  \n",
            "      * * * * * * *  \n"
          ]
        }
      ]
    },
    {
      "cell_type": "code",
      "source": [
        "11.\n",
        "\n",
        "# Outer loop will print the number of rows\n",
        "for i in range(0, 6):\n",
        "  # This inner loop will print the stars\n",
        "    for j in range(0, i + 1):\n",
        "        print(\"*\", end=' ')\n",
        " # Change line after each iteration\n",
        "    print(\" \")\n",
        "    \n",
        "print(\" \")    \n",
        " # For second pattern\n",
        "for i in range(7, 0, -1):\n",
        "    for j in range(0, i - 1):\n",
        "        print(\"*\", end=' ')\n",
        "    print(\" \")"
      ],
      "metadata": {
        "colab": {
          "base_uri": "https://localhost:8080/"
        },
        "id": "J5vn9xXDb9_1",
        "outputId": "fa1d153e-5416-49df-ab55-0bfef3cf961e"
      },
      "execution_count": 12,
      "outputs": [
        {
          "output_type": "stream",
          "name": "stdout",
          "text": [
            "*  \n",
            "* *  \n",
            "* * *  \n",
            "* * * *  \n",
            "* * * * *  \n",
            "* * * * * *  \n",
            " \n",
            "* * * * * *  \n",
            "* * * * *  \n",
            "* * * *  \n",
            "* * *  \n",
            "* *  \n",
            "*  \n",
            " \n"
          ]
        }
      ]
    },
    {
      "cell_type": "code",
      "source": [
        "12.\n",
        "\n",
        "for i in range(0, 5):\n",
        "    for j in range(0, i + 1):\n",
        "        print(\"*\", end=' ')\n",
        "    print(\"\\r\")\n",
        "\n",
        "for i in range(5, 0, -1):\n",
        "    for j in range(0, i - 1):\n",
        "        print(\"*\", end=' ')\n",
        "    print(\"\\r\")"
      ],
      "metadata": {
        "colab": {
          "base_uri": "https://localhost:8080/"
        },
        "id": "JP7PlwKPcCJ8",
        "outputId": "83fd41bf-ef65-4555-ba7e-edbb650917ff"
      },
      "execution_count": 13,
      "outputs": [
        {
          "output_type": "stream",
          "name": "stdout",
          "text": [
            "* \r\n",
            "* * \r\n",
            "* * * \r\n",
            "* * * * \r\n",
            "* * * * * \r\n",
            "* * * * \r\n",
            "* * * \r\n",
            "* * \r\n",
            "* \r\n",
            "\r\n"
          ]
        }
      ]
    },
    {
      "cell_type": "code",
      "source": [
        "13.\n",
        "\n",
        "rows = 5\n",
        "i = 1\n",
        "while i <= rows:\n",
        "    j = i\n",
        "    while j < rows:\n",
        "        # display space\n",
        "        print(' ', end=' ')\n",
        "        j += 1\n",
        "    k = 1\n",
        "    while k <= i:\n",
        "        print('*', end=' ')\n",
        "        k += 1\n",
        "    print()\n",
        "    i += 1\n",
        "\n",
        "i = rows\n",
        "while i >= 1:\n",
        "    j = i\n",
        "    while j <= rows:\n",
        "        print(' ', end=' ')\n",
        "        j += 1\n",
        "    k = 1\n",
        "    while k < i:\n",
        "        print('*', end=' ')\n",
        "        k += 1\n",
        "    print('')\n",
        "    i -= 1"
      ],
      "metadata": {
        "colab": {
          "base_uri": "https://localhost:8080/"
        },
        "id": "Gck0F06ZcFv8",
        "outputId": "985fe9a9-92c8-45ab-bc49-e2d2f4d89052"
      },
      "execution_count": 14,
      "outputs": [
        {
          "output_type": "stream",
          "name": "stdout",
          "text": [
            "        * \n",
            "      * * \n",
            "    * * * \n",
            "  * * * * \n",
            "* * * * * \n",
            "  * * * * \n",
            "    * * * \n",
            "      * * \n",
            "        * \n",
            "          \n"
          ]
        }
      ]
    },
    {
      "cell_type": "code",
      "source": [
        "14.\n",
        "\n",
        "rows = 5\n",
        "i = 0\n",
        "while i <= rows - 1:\n",
        "    j = 0\n",
        "    while j < i:\n",
        "        # display space\n",
        "        print('', end=' ')\n",
        "        j += 1\n",
        "    k = i\n",
        "    while k <= rows - 1:\n",
        "        print('*', end=' ')\n",
        "        k += 1\n",
        "    print()\n",
        "    i += 1\n",
        "\n",
        "i = rows - 1\n",
        "while i >= 0:\n",
        "    j = 0\n",
        "    while j < i:\n",
        "        print('', end=' ')\n",
        "        j += 1\n",
        "    k = i\n",
        "    while k <= rows - 1:\n",
        "        print('*', end=' ')\n",
        "        k += 1\n",
        "    print('')       \n",
        "    i -= 1   \n",
        "          "
      ],
      "metadata": {
        "id": "rxQZrD5cOSYJ",
        "colab": {
          "base_uri": "https://localhost:8080/"
        },
        "outputId": "7e897c6f-72ea-433e-c2d9-969e35e5a22d"
      },
      "execution_count": 15,
      "outputs": [
        {
          "output_type": "stream",
          "name": "stdout",
          "text": [
            "* * * * * \n",
            " * * * * \n",
            "  * * * \n",
            "   * * \n",
            "    * \n",
            "    * \n",
            "   * * \n",
            "  * * * \n",
            " * * * * \n",
            "* * * * * \n"
          ]
        }
      ]
    },
    {
      "cell_type": "code",
      "source": [
        "15.\n",
        "\n",
        "rows = 14\n",
        "print(\"*\" * rows, end=\"\\n\")\n",
        "i = (rows // 2) - 1\n",
        "j = 2\n",
        "while i != 0:\n",
        "    while j <= (rows - 2):\n",
        "        print(\"*\" * i, end=\"\")\n",
        "        print(\"_\" * j, end=\"\")\n",
        "        print(\"*\" * i, end=\"\\n\")\n",
        "        i = i - 1\n",
        "        j = j + 2"
      ],
      "metadata": {
        "colab": {
          "base_uri": "https://localhost:8080/"
        },
        "id": "WxKPmKsOcPBI",
        "outputId": "3eede912-52f6-4e39-cf94-aceeb3e40f75"
      },
      "execution_count": 16,
      "outputs": [
        {
          "output_type": "stream",
          "name": "stdout",
          "text": [
            "**************\n",
            "******__******\n",
            "*****____*****\n",
            "****______****\n",
            "***________***\n",
            "**__________**\n",
            "*____________*\n"
          ]
        }
      ]
    },
    {
      "cell_type": "code",
      "source": [],
      "metadata": {
        "id": "KjI-tOHocUn9"
      },
      "execution_count": null,
      "outputs": []
    }
  ]
}